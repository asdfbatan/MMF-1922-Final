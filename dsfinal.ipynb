{
 "cells": [
  {
   "cell_type": "code",
   "execution_count": 1,
   "id": "e8309bbf",
   "metadata": {},
   "outputs": [],
   "source": [
    "import numpy as np\n",
    "import pandas as pd\n",
    "import matplotlib.pyplot as plt\n",
    "from sklearn import preprocessing\n",
    "from sklearn.model_selection import train_test_split\n",
    "from lightgbm import LGBMRegressor\n",
    "from xgboost import XGBRegressor\n",
    "import sklearn.metrics as metrics\n",
    "import math\n",
    "import re"
   ]
  },
  {
   "cell_type": "code",
   "execution_count": 2,
   "id": "9ba3cae3",
   "metadata": {},
   "outputs": [],
   "source": [
    "# Importing **train** and **test** datasets\n",
    "sample_submission = pd.read_csv(\"sample_submission.csv\")\n",
    "test = pd.read_csv(\"test.csv\")\n",
    "train = pd.read_csv(\"train.csv\")\n",
    "# Creating a copy of the train and test datasets\n",
    "c_test = test.copy()\n",
    "c_train = train.copy()"
   ]
  },
  {
   "cell_type": "code",
   "execution_count": 3,
   "id": "e09a56f4",
   "metadata": {},
   "outputs": [
    {
     "data": {
      "text/html": [
       "<div>\n",
       "<style scoped>\n",
       "    .dataframe tbody tr th:only-of-type {\n",
       "        vertical-align: middle;\n",
       "    }\n",
       "\n",
       "    .dataframe tbody tr th {\n",
       "        vertical-align: top;\n",
       "    }\n",
       "\n",
       "    .dataframe thead th {\n",
       "        text-align: right;\n",
       "    }\n",
       "</style>\n",
       "<table border=\"1\" class=\"dataframe\">\n",
       "  <thead>\n",
       "    <tr style=\"text-align: right;\">\n",
       "      <th></th>\n",
       "      <th>id</th>\n",
       "      <th>carat</th>\n",
       "      <th>cut</th>\n",
       "      <th>color</th>\n",
       "      <th>clarity</th>\n",
       "      <th>depth</th>\n",
       "      <th>table</th>\n",
       "      <th>price</th>\n",
       "      <th>x</th>\n",
       "      <th>y</th>\n",
       "      <th>z</th>\n",
       "    </tr>\n",
       "  </thead>\n",
       "  <tbody>\n",
       "    <tr>\n",
       "      <th>0</th>\n",
       "      <td>0</td>\n",
       "      <td>1.01</td>\n",
       "      <td>Very Good</td>\n",
       "      <td>E</td>\n",
       "      <td>SI2</td>\n",
       "      <td>60.0</td>\n",
       "      <td>60.0</td>\n",
       "      <td>4540</td>\n",
       "      <td>6.57</td>\n",
       "      <td>6.49</td>\n",
       "      <td>3.92</td>\n",
       "    </tr>\n",
       "    <tr>\n",
       "      <th>1</th>\n",
       "      <td>1</td>\n",
       "      <td>1.10</td>\n",
       "      <td>Premium</td>\n",
       "      <td>H</td>\n",
       "      <td>VS2</td>\n",
       "      <td>62.5</td>\n",
       "      <td>58.0</td>\n",
       "      <td>5729</td>\n",
       "      <td>6.59</td>\n",
       "      <td>6.54</td>\n",
       "      <td>4.10</td>\n",
       "    </tr>\n",
       "    <tr>\n",
       "      <th>2</th>\n",
       "      <td>2</td>\n",
       "      <td>1.50</td>\n",
       "      <td>Good</td>\n",
       "      <td>E</td>\n",
       "      <td>SI2</td>\n",
       "      <td>61.5</td>\n",
       "      <td>65.0</td>\n",
       "      <td>6300</td>\n",
       "      <td>7.21</td>\n",
       "      <td>7.17</td>\n",
       "      <td>4.42</td>\n",
       "    </tr>\n",
       "    <tr>\n",
       "      <th>3</th>\n",
       "      <td>3</td>\n",
       "      <td>1.53</td>\n",
       "      <td>Premium</td>\n",
       "      <td>E</td>\n",
       "      <td>SI1</td>\n",
       "      <td>61.3</td>\n",
       "      <td>59.0</td>\n",
       "      <td>12968</td>\n",
       "      <td>7.40</td>\n",
       "      <td>7.35</td>\n",
       "      <td>4.52</td>\n",
       "    </tr>\n",
       "    <tr>\n",
       "      <th>4</th>\n",
       "      <td>4</td>\n",
       "      <td>0.84</td>\n",
       "      <td>Fair</td>\n",
       "      <td>D</td>\n",
       "      <td>SI2</td>\n",
       "      <td>64.5</td>\n",
       "      <td>60.0</td>\n",
       "      <td>2167</td>\n",
       "      <td>5.92</td>\n",
       "      <td>5.84</td>\n",
       "      <td>3.79</td>\n",
       "    </tr>\n",
       "  </tbody>\n",
       "</table>\n",
       "</div>"
      ],
      "text/plain": [
       "   id  carat        cut color clarity  depth  table  price     x     y     z\n",
       "0   0   1.01  Very Good     E     SI2   60.0   60.0   4540  6.57  6.49  3.92\n",
       "1   1   1.10    Premium     H     VS2   62.5   58.0   5729  6.59  6.54  4.10\n",
       "2   2   1.50       Good     E     SI2   61.5   65.0   6300  7.21  7.17  4.42\n",
       "3   3   1.53    Premium     E     SI1   61.3   59.0  12968  7.40  7.35  4.52\n",
       "4   4   0.84       Fair     D     SI2   64.5   60.0   2167  5.92  5.84  3.79"
      ]
     },
     "execution_count": 3,
     "metadata": {},
     "output_type": "execute_result"
    }
   ],
   "source": [
    "c_train.head()"
   ]
  },
  {
   "cell_type": "code",
   "execution_count": 4,
   "id": "1177ee44",
   "metadata": {},
   "outputs": [
    {
     "data": {
      "text/html": [
       "<div>\n",
       "<style scoped>\n",
       "    .dataframe tbody tr th:only-of-type {\n",
       "        vertical-align: middle;\n",
       "    }\n",
       "\n",
       "    .dataframe tbody tr th {\n",
       "        vertical-align: top;\n",
       "    }\n",
       "\n",
       "    .dataframe thead th {\n",
       "        text-align: right;\n",
       "    }\n",
       "</style>\n",
       "<table border=\"1\" class=\"dataframe\">\n",
       "  <thead>\n",
       "    <tr style=\"text-align: right;\">\n",
       "      <th></th>\n",
       "      <th>id</th>\n",
       "      <th>carat</th>\n",
       "      <th>cut</th>\n",
       "      <th>color</th>\n",
       "      <th>clarity</th>\n",
       "      <th>depth</th>\n",
       "      <th>table</th>\n",
       "      <th>x</th>\n",
       "      <th>y</th>\n",
       "      <th>z</th>\n",
       "    </tr>\n",
       "  </thead>\n",
       "  <tbody>\n",
       "    <tr>\n",
       "      <th>0</th>\n",
       "      <td>0</td>\n",
       "      <td>0.24</td>\n",
       "      <td>Ideal</td>\n",
       "      <td>G</td>\n",
       "      <td>VVS1</td>\n",
       "      <td>62.1</td>\n",
       "      <td>56.0</td>\n",
       "      <td>3.97</td>\n",
       "      <td>4.00</td>\n",
       "      <td>2.47</td>\n",
       "    </tr>\n",
       "    <tr>\n",
       "      <th>1</th>\n",
       "      <td>1</td>\n",
       "      <td>1.21</td>\n",
       "      <td>Very Good</td>\n",
       "      <td>F</td>\n",
       "      <td>VS2</td>\n",
       "      <td>62.9</td>\n",
       "      <td>54.0</td>\n",
       "      <td>6.78</td>\n",
       "      <td>6.82</td>\n",
       "      <td>4.28</td>\n",
       "    </tr>\n",
       "    <tr>\n",
       "      <th>2</th>\n",
       "      <td>2</td>\n",
       "      <td>0.50</td>\n",
       "      <td>Fair</td>\n",
       "      <td>E</td>\n",
       "      <td>SI1</td>\n",
       "      <td>61.7</td>\n",
       "      <td>68.0</td>\n",
       "      <td>5.09</td>\n",
       "      <td>5.03</td>\n",
       "      <td>3.12</td>\n",
       "    </tr>\n",
       "    <tr>\n",
       "      <th>3</th>\n",
       "      <td>3</td>\n",
       "      <td>0.50</td>\n",
       "      <td>Ideal</td>\n",
       "      <td>D</td>\n",
       "      <td>SI2</td>\n",
       "      <td>62.8</td>\n",
       "      <td>56.0</td>\n",
       "      <td>5.06</td>\n",
       "      <td>5.03</td>\n",
       "      <td>3.17</td>\n",
       "    </tr>\n",
       "    <tr>\n",
       "      <th>4</th>\n",
       "      <td>4</td>\n",
       "      <td>1.55</td>\n",
       "      <td>Ideal</td>\n",
       "      <td>E</td>\n",
       "      <td>SI2</td>\n",
       "      <td>62.3</td>\n",
       "      <td>55.0</td>\n",
       "      <td>7.44</td>\n",
       "      <td>7.37</td>\n",
       "      <td>4.61</td>\n",
       "    </tr>\n",
       "  </tbody>\n",
       "</table>\n",
       "</div>"
      ],
      "text/plain": [
       "   id  carat        cut color clarity  depth  table     x     y     z\n",
       "0   0   0.24      Ideal     G    VVS1   62.1   56.0  3.97  4.00  2.47\n",
       "1   1   1.21  Very Good     F     VS2   62.9   54.0  6.78  6.82  4.28\n",
       "2   2   0.50       Fair     E     SI1   61.7   68.0  5.09  5.03  3.12\n",
       "3   3   0.50      Ideal     D     SI2   62.8   56.0  5.06  5.03  3.17\n",
       "4   4   1.55      Ideal     E     SI2   62.3   55.0  7.44  7.37  4.61"
      ]
     },
     "execution_count": 4,
     "metadata": {},
     "output_type": "execute_result"
    }
   ],
   "source": [
    "c_test.head()"
   ]
  },
  {
   "cell_type": "code",
   "execution_count": 5,
   "id": "842c8d2f",
   "metadata": {},
   "outputs": [],
   "source": [
    "c_train['train']  = 1\n",
    "c_test['train']  = 0\n",
    "df = pd.concat([c_train, c_test], axis=0,sort=False)"
   ]
  },
  {
   "cell_type": "code",
   "execution_count": 6,
   "id": "4c5f3173",
   "metadata": {},
   "outputs": [],
   "source": [
    "#Percentage of NAN Values \n",
    "NAN = [(c, df[c].isna().mean()*100) for c in df]\n",
    "NAN = pd.DataFrame(NAN, columns=[\"column_name\", \"percentage\"])"
   ]
  },
  {
   "cell_type": "code",
   "execution_count": 7,
   "id": "513b5b2a",
   "metadata": {},
   "outputs": [
    {
     "data": {
      "text/html": [
       "<div>\n",
       "<style scoped>\n",
       "    .dataframe tbody tr th:only-of-type {\n",
       "        vertical-align: middle;\n",
       "    }\n",
       "\n",
       "    .dataframe tbody tr th {\n",
       "        vertical-align: top;\n",
       "    }\n",
       "\n",
       "    .dataframe thead th {\n",
       "        text-align: right;\n",
       "    }\n",
       "</style>\n",
       "<table border=\"1\" class=\"dataframe\">\n",
       "  <thead>\n",
       "    <tr style=\"text-align: right;\">\n",
       "      <th></th>\n",
       "      <th>column_name</th>\n",
       "      <th>percentage</th>\n",
       "    </tr>\n",
       "  </thead>\n",
       "  <tbody>\n",
       "  </tbody>\n",
       "</table>\n",
       "</div>"
      ],
      "text/plain": [
       "Empty DataFrame\n",
       "Columns: [column_name, percentage]\n",
       "Index: []"
      ]
     },
     "execution_count": 7,
     "metadata": {},
     "output_type": "execute_result"
    }
   ],
   "source": [
    "NAN = NAN[NAN.percentage > 50]\n",
    "NAN.sort_values(\"percentage\", ascending=False)"
   ]
  },
  {
   "cell_type": "code",
   "execution_count": 8,
   "id": "0da2076f",
   "metadata": {},
   "outputs": [],
   "source": [
    "# Now we will select numerical and categorical features\n",
    "object_columns_df = df.select_dtypes(include=['object'])\n",
    "numerical_columns_df =df.select_dtypes(exclude=['object'])"
   ]
  },
  {
   "cell_type": "code",
   "execution_count": 9,
   "id": "61c5bb9d",
   "metadata": {},
   "outputs": [
    {
     "data": {
      "text/plain": [
       "cut        object\n",
       "color      object\n",
       "clarity    object\n",
       "dtype: object"
      ]
     },
     "execution_count": 9,
     "metadata": {},
     "output_type": "execute_result"
    }
   ],
   "source": [
    "object_columns_df.dtypes"
   ]
  },
  {
   "cell_type": "code",
   "execution_count": 10,
   "id": "8b788be4",
   "metadata": {},
   "outputs": [
    {
     "data": {
      "text/plain": [
       "id         int64\n",
       "carat    float64\n",
       "depth    float64\n",
       "table    float64\n",
       "price    float64\n",
       "x        float64\n",
       "y        float64\n",
       "z        float64\n",
       "train      int64\n",
       "dtype: object"
      ]
     },
     "execution_count": 10,
     "metadata": {},
     "output_type": "execute_result"
    }
   ],
   "source": [
    "numerical_columns_df.dtypes"
   ]
  },
  {
   "cell_type": "code",
   "execution_count": 11,
   "id": "a1c4ef7f",
   "metadata": {},
   "outputs": [],
   "source": [
    "df['cut']=df['cut'].map({'Ideal':5,'Premium':4, 'Very Good':3,'Good':2,'Fair':1})\n",
    "df['color']=df['color'].map({'G':4,'E':6,'F':5,'H':3,'D':7,'I':2,'J' : 1})\n",
    "df['clarity']=df['clarity'].map({'SI1' : 3, 'VS2' : 4, 'SI2': 2,'VS1' : 5,'VVS2' : 6, 'VVS1': 7, 'IF' : 8,'I1' : 1})"
   ]
  },
  {
   "cell_type": "code",
   "execution_count": 12,
   "id": "442d3d71",
   "metadata": {},
   "outputs": [],
   "source": [
    "#Select categorical features\n",
    "rest_object_columns = df.select_dtypes(include=['object'])\n",
    "#Using One hot encoder\n",
    "df = pd.get_dummies(df, columns=rest_object_columns.columns)  "
   ]
  },
  {
   "cell_type": "code",
   "execution_count": 13,
   "id": "42f00266",
   "metadata": {},
   "outputs": [
    {
     "data": {
      "text/html": [
       "<div>\n",
       "<style scoped>\n",
       "    .dataframe tbody tr th:only-of-type {\n",
       "        vertical-align: middle;\n",
       "    }\n",
       "\n",
       "    .dataframe tbody tr th {\n",
       "        vertical-align: top;\n",
       "    }\n",
       "\n",
       "    .dataframe thead th {\n",
       "        text-align: right;\n",
       "    }\n",
       "</style>\n",
       "<table border=\"1\" class=\"dataframe\">\n",
       "  <thead>\n",
       "    <tr style=\"text-align: right;\">\n",
       "      <th></th>\n",
       "      <th>id</th>\n",
       "      <th>carat</th>\n",
       "      <th>cut</th>\n",
       "      <th>color</th>\n",
       "      <th>clarity</th>\n",
       "      <th>depth</th>\n",
       "      <th>table</th>\n",
       "      <th>price</th>\n",
       "      <th>x</th>\n",
       "      <th>y</th>\n",
       "      <th>z</th>\n",
       "      <th>train</th>\n",
       "    </tr>\n",
       "  </thead>\n",
       "  <tbody>\n",
       "    <tr>\n",
       "      <th>0</th>\n",
       "      <td>0</td>\n",
       "      <td>1.01</td>\n",
       "      <td>3</td>\n",
       "      <td>6</td>\n",
       "      <td>2</td>\n",
       "      <td>60.0</td>\n",
       "      <td>60.0</td>\n",
       "      <td>4540.0</td>\n",
       "      <td>6.57</td>\n",
       "      <td>6.49</td>\n",
       "      <td>3.92</td>\n",
       "      <td>1</td>\n",
       "    </tr>\n",
       "    <tr>\n",
       "      <th>1</th>\n",
       "      <td>1</td>\n",
       "      <td>1.10</td>\n",
       "      <td>4</td>\n",
       "      <td>3</td>\n",
       "      <td>4</td>\n",
       "      <td>62.5</td>\n",
       "      <td>58.0</td>\n",
       "      <td>5729.0</td>\n",
       "      <td>6.59</td>\n",
       "      <td>6.54</td>\n",
       "      <td>4.10</td>\n",
       "      <td>1</td>\n",
       "    </tr>\n",
       "    <tr>\n",
       "      <th>2</th>\n",
       "      <td>2</td>\n",
       "      <td>1.50</td>\n",
       "      <td>2</td>\n",
       "      <td>6</td>\n",
       "      <td>2</td>\n",
       "      <td>61.5</td>\n",
       "      <td>65.0</td>\n",
       "      <td>6300.0</td>\n",
       "      <td>7.21</td>\n",
       "      <td>7.17</td>\n",
       "      <td>4.42</td>\n",
       "      <td>1</td>\n",
       "    </tr>\n",
       "    <tr>\n",
       "      <th>3</th>\n",
       "      <td>3</td>\n",
       "      <td>1.53</td>\n",
       "      <td>4</td>\n",
       "      <td>6</td>\n",
       "      <td>3</td>\n",
       "      <td>61.3</td>\n",
       "      <td>59.0</td>\n",
       "      <td>12968.0</td>\n",
       "      <td>7.40</td>\n",
       "      <td>7.35</td>\n",
       "      <td>4.52</td>\n",
       "      <td>1</td>\n",
       "    </tr>\n",
       "    <tr>\n",
       "      <th>4</th>\n",
       "      <td>4</td>\n",
       "      <td>0.84</td>\n",
       "      <td>1</td>\n",
       "      <td>7</td>\n",
       "      <td>2</td>\n",
       "      <td>64.5</td>\n",
       "      <td>60.0</td>\n",
       "      <td>2167.0</td>\n",
       "      <td>5.92</td>\n",
       "      <td>5.84</td>\n",
       "      <td>3.79</td>\n",
       "      <td>1</td>\n",
       "    </tr>\n",
       "  </tbody>\n",
       "</table>\n",
       "</div>"
      ],
      "text/plain": [
       "   id  carat  cut  color  clarity  depth  table    price     x     y     z  \\\n",
       "0   0   1.01    3      6        2   60.0   60.0   4540.0  6.57  6.49  3.92   \n",
       "1   1   1.10    4      3        4   62.5   58.0   5729.0  6.59  6.54  4.10   \n",
       "2   2   1.50    2      6        2   61.5   65.0   6300.0  7.21  7.17  4.42   \n",
       "3   3   1.53    4      6        3   61.3   59.0  12968.0  7.40  7.35  4.52   \n",
       "4   4   0.84    1      7        2   64.5   60.0   2167.0  5.92  5.84  3.79   \n",
       "\n",
       "   train  \n",
       "0      1  \n",
       "1      1  \n",
       "2      1  \n",
       "3      1  \n",
       "4      1  "
      ]
     },
     "execution_count": 13,
     "metadata": {},
     "output_type": "execute_result"
    }
   ],
   "source": [
    "df.head()"
   ]
  },
  {
   "cell_type": "code",
   "execution_count": 14,
   "id": "a8682ffc",
   "metadata": {},
   "outputs": [
    {
     "name": "stdout",
     "output_type": "stream",
     "text": [
      "          id  carat  cut  color  clarity  depth  table    price     x     y  \\\n",
      "0          0   1.01    3      6        2   60.0   60.0   4540.0  6.57  6.49   \n",
      "1          1   1.10    4      3        4   62.5   58.0   5729.0  6.59  6.54   \n",
      "2          2   1.50    2      6        2   61.5   65.0   6300.0  7.21  7.17   \n",
      "3          3   1.53    4      6        3   61.3   59.0  12968.0  7.40  7.35   \n",
      "4          4   0.84    1      7        2   64.5   60.0   2167.0  5.92  5.84   \n",
      "...      ...    ...  ...    ...      ...    ...    ...      ...   ...   ...   \n",
      "10784  10784   0.53    5      5        4   62.3   55.0      NaN  5.20  5.17   \n",
      "10785  10785   0.41    4      4        3   61.3   60.0      NaN  4.75  4.81   \n",
      "10786  10786   0.51    4      4        4   62.4   58.0      NaN  5.11  5.12   \n",
      "10787  10787   1.08    2      1        2   63.2   59.0      NaN  6.40  6.57   \n",
      "10788  10788   0.30    5      6        6   60.9   57.0      NaN  4.32  4.35   \n",
      "\n",
      "          z  train  \n",
      "0      3.92      1  \n",
      "1      4.10      1  \n",
      "2      4.42      1  \n",
      "3      4.52      1  \n",
      "4      3.79      1  \n",
      "...     ...    ...  \n",
      "10784  3.23      0  \n",
      "10785  2.93      0  \n",
      "10786  3.19      0  \n",
      "10787  4.10      0  \n",
      "10788  2.64      0  \n",
      "\n",
      "[53943 rows x 12 columns]\n"
     ]
    }
   ],
   "source": [
    "print(df)"
   ]
  },
  {
   "cell_type": "code",
   "execution_count": 15,
   "id": "dc756035",
   "metadata": {},
   "outputs": [],
   "source": [
    "df_final = df"
   ]
  },
  {
   "cell_type": "code",
   "execution_count": 21,
   "id": "69a2d538",
   "metadata": {},
   "outputs": [],
   "source": [
    "#df_final = df_final.drop(['id',],axis=1)\n",
    "\n",
    "df_train = df_final[df_final['train'] == 1]\n",
    "df_train = df_train.drop(['train',],axis=1)\n",
    "\n",
    "\n",
    "df_test = df_final[df_final['train'] == 0]\n",
    "df_test = df_test.drop(['price'],axis=1)\n",
    "df_test = df_test.drop(['train',],axis=1)"
   ]
  },
  {
   "cell_type": "code",
   "execution_count": 24,
   "id": "820b85f1",
   "metadata": {},
   "outputs": [],
   "source": [
    "target= df_train['price']\n",
    "df_train = df_train.drop(['price'],axis=1)"
   ]
  },
  {
   "cell_type": "code",
   "execution_count": 25,
   "id": "6d4d656a",
   "metadata": {},
   "outputs": [],
   "source": [
    "x_train,x_test,y_train,y_test = train_test_split(df_train,target,test_size=0.33,random_state=0)"
   ]
  },
  {
   "cell_type": "code",
   "execution_count": 26,
   "id": "eb84a26b",
   "metadata": {},
   "outputs": [],
   "source": [
    "xgb =XGBRegressor( booster='gbtree', colsample_bylevel=1,\n",
    "             colsample_bynode=1, colsample_bytree=0.6, gamma=0,\n",
    "             importance_type='gain', learning_rate=0.01, max_delta_step=0,\n",
    "             max_depth=4, min_child_weight=1.5, n_estimators=2400,\n",
    "             n_jobs=1, nthread=None, objective='reg:linear',\n",
    "             reg_alpha=0.6, reg_lambda=0.6, scale_pos_weight=1, \n",
    "             silent=None, subsample=0.8, verbosity=1)\n",
    "\n",
    "\n",
    "lgbm = LGBMRegressor(objective='regression', \n",
    "                                       num_leaves=4,\n",
    "                                       learning_rate=0.01, \n",
    "                                       n_estimators=12000, \n",
    "                                       max_bin=200, \n",
    "                                       bagging_fraction=0.75,\n",
    "                                       bagging_freq=5, \n",
    "                                       bagging_seed=7,\n",
    "                                       feature_fraction=0.4, \n",
    "                                       )"
   ]
  },
  {
   "cell_type": "code",
   "execution_count": 27,
   "id": "1649436b",
   "metadata": {},
   "outputs": [
    {
     "name": "stdout",
     "output_type": "stream",
     "text": [
      "[00:05:45] WARNING: C:/buildkite-agent/builds/buildkite-windows-cpu-autoscaling-group-i-03de431ba26204c4d-1/xgboost/xgboost-ci-windows/src/objective/regression_obj.cu:213: reg:linear is now deprecated in favor of reg:squarederror.\n",
      "[LightGBM] [Warning] feature_fraction is set=0.4, colsample_bytree=1.0 will be ignored. Current value: feature_fraction=0.4\n",
      "[LightGBM] [Warning] bagging_fraction is set=0.75, subsample=1.0 will be ignored. Current value: bagging_fraction=0.75\n",
      "[LightGBM] [Warning] bagging_freq is set=5, subsample_freq=0 will be ignored. Current value: bagging_freq=5\n"
     ]
    },
    {
     "data": {
      "text/plain": [
       "LGBMRegressor(bagging_fraction=0.75, bagging_freq=5, bagging_seed=7,\n",
       "              feature_fraction=0.4, learning_rate=0.01, max_bin=200,\n",
       "              n_estimators=12000, num_leaves=4, objective='regression')"
      ]
     },
     "execution_count": 27,
     "metadata": {},
     "output_type": "execute_result"
    }
   ],
   "source": [
    "#Fitting\n",
    "xgb.fit(x_train, y_train)\n",
    "lgbm.fit(x_train, y_train,eval_metric='rmse')"
   ]
  },
  {
   "cell_type": "code",
   "execution_count": 28,
   "id": "c018c5c4",
   "metadata": {},
   "outputs": [],
   "source": [
    "predict1 = xgb.predict(x_test)\n",
    "predict = lgbm.predict(x_test)"
   ]
  },
  {
   "cell_type": "code",
   "execution_count": 29,
   "id": "d3bbf596",
   "metadata": {},
   "outputs": [
    {
     "name": "stdout",
     "output_type": "stream",
     "text": [
      "Root Mean Square Error test = 548.559068432399\n",
      "Root Mean Square Error test = 583.2603336331485\n"
     ]
    }
   ],
   "source": [
    "print('Root Mean Square Error test = ' + str(math.sqrt(metrics.mean_squared_error(y_test, predict1))))\n",
    "print('Root Mean Square Error test = ' + str(math.sqrt(metrics.mean_squared_error(y_test, predict))))"
   ]
  },
  {
   "cell_type": "code",
   "execution_count": 30,
   "id": "feeb09ff",
   "metadata": {
    "scrolled": true
   },
   "outputs": [
    {
     "name": "stdout",
     "output_type": "stream",
     "text": [
      "[00:06:15] WARNING: C:/buildkite-agent/builds/buildkite-windows-cpu-autoscaling-group-i-03de431ba26204c4d-1/xgboost/xgboost-ci-windows/src/objective/regression_obj.cu:213: reg:linear is now deprecated in favor of reg:squarederror.\n",
      "[LightGBM] [Warning] feature_fraction is set=0.4, colsample_bytree=1.0 will be ignored. Current value: feature_fraction=0.4\n",
      "[LightGBM] [Warning] bagging_fraction is set=0.75, subsample=1.0 will be ignored. Current value: bagging_fraction=0.75\n",
      "[LightGBM] [Warning] bagging_freq is set=5, subsample_freq=0 will be ignored. Current value: bagging_freq=5\n"
     ]
    },
    {
     "data": {
      "text/plain": [
       "LGBMRegressor(bagging_fraction=0.75, bagging_freq=5, bagging_seed=7,\n",
       "              feature_fraction=0.4, learning_rate=0.01, max_bin=200,\n",
       "              n_estimators=12000, num_leaves=4, objective='regression')"
      ]
     },
     "execution_count": 30,
     "metadata": {},
     "output_type": "execute_result"
    }
   ],
   "source": [
    "xgb.fit(df_train, target)\n",
    "lgbm.fit(df_train, target,eval_metric='rmse')"
   ]
  },
  {
   "cell_type": "code",
   "execution_count": 31,
   "id": "c10d91f4",
   "metadata": {},
   "outputs": [],
   "source": [
    "predict4 = lgbm.predict(df_test)\n",
    "predict3 = xgb.predict(df_test)\n",
    "predict_y = ( predict3*0.45 + predict4 * 0.55)"
   ]
  },
  {
   "cell_type": "code",
   "execution_count": 32,
   "id": "d373e4c2",
   "metadata": {},
   "outputs": [],
   "source": [
    "submission = pd.DataFrame({\n",
    "        \"id\": test[\"id\"],\n",
    "        \"price\": predict_y\n",
    "    })\n",
    "submission.to_csv('submission.csv', index=False)"
   ]
  },
  {
   "cell_type": "code",
   "execution_count": null,
   "id": "d7550591",
   "metadata": {},
   "outputs": [],
   "source": []
  }
 ],
 "metadata": {
  "kernelspec": {
   "display_name": "Python 3 (ipykernel)",
   "language": "python",
   "name": "python3"
  },
  "language_info": {
   "codemirror_mode": {
    "name": "ipython",
    "version": 3
   },
   "file_extension": ".py",
   "mimetype": "text/x-python",
   "name": "python",
   "nbconvert_exporter": "python",
   "pygments_lexer": "ipython3",
   "version": "3.9.13"
  }
 },
 "nbformat": 4,
 "nbformat_minor": 5
}
